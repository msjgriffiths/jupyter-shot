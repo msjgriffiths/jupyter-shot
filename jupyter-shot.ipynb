{
 "cells": [
  {
   "cell_type": "markdown",
   "metadata": {},
   "source": [
    "# Experimentally Upload Jupyter Cell to Imgur\n",
    "\n",
    "The code below uses a JS library called [html2canvas](http://html2canvas.hertzen.com) to take a screenshot of a Jupyter cell. The screenshot is then uploaded to Imgur via its upload API. It is activated by the keyboard shortcut `r`.\n",
    "\n",
    "This is designed to work on Jupyter Notebooks version 4.0 or higher.\n",
    "\n",
    "First we load html2canvas:"
   ]
  },
  {
   "cell_type": "code",
   "execution_count": 13,
   "metadata": {
    "collapsed": false
   },
   "outputs": [
    {
     "data": {
      "text/html": [
       "\n",
       "<script src=\"http://html2canvas.hertzen.com/build/html2canvas.js\" charset=\"utf-8\"></script>"
      ],
      "text/plain": [
       "<IPython.core.display.HTML object>"
      ]
     },
     "metadata": {},
     "output_type": "display_data"
    }
   ],
   "source": [
    "%%html\n",
    "\n",
    "<script src=\"http://html2canvas.hertzen.com/build/html2canvas.js\" charset=\"utf-8\"></script>"
   ]
  },
  {
   "cell_type": "code",
   "execution_count": 14,
   "metadata": {
    "collapsed": false
   },
   "outputs": [
    {
     "data": {
      "application/javascript": [
       "\n",
       "// Next define a function for uploading the canvas to Imgur\n",
       "\n",
       "function uploadCanvasToImgur(canvas) {\n",
       "    document.body.appendChild(canvas);\n",
       "    console.log(canvas);\n",
       "    console.log(canvas.toDataURL('image/png', .9))\n",
       "    try {\n",
       "        var img = canvas.toDataURL('image/png', 0.9).split(',')[1];\n",
       "    } catch (e) {\n",
       "        var img = canvas.toDataURL().split(',')[1];\n",
       "    }\n",
       "    var w = window.open();\n",
       "    w.document.write('Uploading...');\n",
       "\n",
       "   \n",
       "}\n",
       "\n",
       "// Define a function for uploading the currently selected cell\n",
       "\n",
       "function uploadSelectedCellToImgur(event) {\n",
       "    console.log(event);\n",
       "    element = IPython.notebook.get_selected_cell().element;\n",
       "    html2canvas(element, {\n",
       "        onrendered: uploadCanvasToImgur\n",
       "    })\n",
       "}\n",
       "\n",
       "// Define `r` as the keyboard shortcut\n",
       "\n",
       "Jupyter.keyboard_manager.command_shortcuts.add_shortcut('r', {\n",
       "    help: 'Upload cell to Imgur',\n",
       "    help_index: 'Upload a screenshot of the current cell and output to Imgur.',\n",
       "    handler: uploadSelectedCellToImgur\n",
       "});"
      ],
      "text/plain": [
       "<IPython.core.display.Javascript object>"
      ]
     },
     "metadata": {},
     "output_type": "display_data"
    }
   ],
   "source": [
    "%%javascript\n",
    "\n",
    "// Next define a function for uploading the canvas to Imgur\n",
    "\n",
    "// 14c0d864490a649\n",
    "var ImgurScreenshot = function(api_key){\n",
    "    this.imgur_api_client_key = api_key;\n",
    "};\n",
    "\n",
    "ImgurScreenshot.prototype.handleEvent = function(event) {\n",
    "    // Get selected cells - easier to use jQuery here.\n",
    "    var selectedCells = jQuery(\".selected.cell\");\n",
    "    // Now we want to generate a canvas element for each selected cell.\n",
    "    // Since it uses promises, it's not necessarily deterministic, so we keep track.\n",
    "    this.canvasElements = Array(selectedCells.length);\n",
    "    // Since this is async (yay?) we need to keep track of when we're ready for the next stage.\n",
    "    this.canvasStatus = Array(selectedCells.length).fill(false);\n",
    "    $this = this;\n",
    "    selectedCells.map(function(index, element){ \n",
    "        html2canvas(element, {\n",
    "            onrendered: function(renderedCanvas){\n",
    "                $this.canvasElements[index] = renderedCanvas;\n",
    "            },\n",
    "            allowTaint: true,\n",
    "            //height: jQuery(element).height()\n",
    "        });\n",
    "        // Set out tracker to \"true\".\n",
    "        $this.canvasStatus[index] = true; \n",
    "    });\n",
    "\n",
    "    // Set up a function to check that all of our status is done, every 100 ms.\n",
    "    this.canvasTimer = setInterval(function(){\n",
    "        if($this.canvasStatus.reduce(function(x, y){return (x * y);})) {\n",
    "            $this.drawTogether();\n",
    "            clearInterval($this.canvasTimer);\n",
    "        }\n",
    "    }, 100); \n",
    "}\n",
    "\n",
    "ImgurScreenshot.prototype.drawTogether = function(){\n",
    "    canvasElements = this.canvasElements;\n",
    "    // Once we have all of the cells, we want to make a new canvas combining all of them.\n",
    "    var height = canvasElements.map(function(x){return(x.height);}).reduce(function(x,y){return(x + y);}),\n",
    "        width = Math.max.apply(null, canvasElements.map(function(x){return(x.width);}));\n",
    "\n",
    "    // Now we create a new canvas element that's large enough.\n",
    "    var finalCanvas = document.createElement('canvas');\n",
    "    finalCanvas.height = height;\n",
    "    finalCanvas.width = width;\n",
    "    var canvasContext = finalCanvas.getContext('2d');\n",
    "    // Look through and draw.\n",
    "    var offsetHeight = 0;\n",
    "    for(i=0; i < canvasElements.length; i++){\n",
    "        var currentImage = canvasElements[i];\n",
    "        canvasContext.drawImage(currentImage, 0, offsetHeight);\n",
    "        offsetHeight += currentImage.height;\n",
    "    }\n",
    "    this.upload(finalCanvas);\n",
    "}\n",
    "\n",
    "ImgurScreenshot.prototype.upload = function(finalCanvas){\n",
    "    var img = finalCanvas.toDataURL(\"image/png\").split(\",\")[1];\n",
    "    $.ajax({\n",
    "        url: 'https://api.imgur.com/3/image',\n",
    "        type: 'post',\n",
    "        headers: {\n",
    "            Authorization: 'Client-ID ' + this.imgur_api_client_key\n",
    "        },\n",
    "        data: {\n",
    "            image: img\n",
    "        },\n",
    "        dataType: 'json',\n",
    "        success: function(response) {\n",
    "            if (response.success) {\n",
    "                // Perhaps do something else with this - \n",
    "                console.log(response.data.link);\n",
    "            }\n",
    "        }\n",
    "    }).error(function() {\n",
    "        alert('Could not reach api.imgur.com.');\n",
    "        w.close();\n",
    "    });\n",
    "}\n",
    "\n",
    "// Define `r` as the keyboard shortcut\n",
    "\n",
    "Jupyter.keyboard_manager.command_shortcuts.add_shortcut('r', {\n",
    "    help: 'Upload cell to Imgur',\n",
    "    help_index: 'Upload a screenshot of the current cell and output to Imgur.',\n",
    "    handler: function(x){ i = new ImgurScreenshot(\"14c0d864490a649\"); i.handleEvent(x);}\n",
    "});"
   ]
  },
  {
   "cell_type": "markdown",
   "metadata": {},
   "source": [
    "Now try to run the cell below and press the `r` button. If everything works, a new tab will pop open with the screenshot. It should look like this\n",
    "\n",
    "![](http://i.imgur.com/m3ZfPLB.png)"
   ]
  },
  {
   "cell_type": "code",
   "execution_count": 8,
   "metadata": {
    "collapsed": false,
    "scrolled": false
   },
   "outputs": [
    {
     "data": {
      "text/plain": [
       "2"
      ]
     },
     "execution_count": 8,
     "metadata": {},
     "output_type": "execute_result"
    }
   ],
   "source": [
    "1+1"
   ]
  },
  {
   "cell_type": "code",
   "execution_count": 15,
   "metadata": {
    "collapsed": false,
    "scrolled": true
   },
   "outputs": [
    {
     "data": {
      "text/plain": [
       "4"
      ]
     },
     "execution_count": 15,
     "metadata": {},
     "output_type": "execute_result"
    }
   ],
   "source": [
    "2+2"
   ]
  },
  {
   "cell_type": "markdown",
   "metadata": {},
   "source": [
    "Multiple tabs! But it doesn't always work..."
   ]
  },
  {
   "cell_type": "markdown",
   "metadata": {},
   "source": [
    "![](http://i.imgur.com/q1mJaun.png)"
   ]
  }
 ],
 "metadata": {
  "kernelspec": {
   "display_name": "Python 3",
   "language": "python",
   "name": "python3"
  },
  "language_info": {
   "codemirror_mode": {
    "name": "ipython",
    "version": 3
   },
   "file_extension": ".py",
   "mimetype": "text/x-python",
   "name": "python",
   "nbconvert_exporter": "python",
   "pygments_lexer": "ipython3",
   "version": "3.5.0"
  }
 },
 "nbformat": 4,
 "nbformat_minor": 0
}
