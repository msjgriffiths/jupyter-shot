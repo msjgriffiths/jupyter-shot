{
 "cells": [
  {
   "cell_type": "markdown",
   "metadata": {},
   "source": [
    "# Experimentally Upload Jupyter Cell to Imgur\n",
    "\n",
    "The code below uses a JS library called [html2canvas](http://html2canvas.hertzen.com) to take a screenshot of a Jupyter cell. The screenshot is then uploaded to Imgur via its upload API. It is activated by the keyboard shortcut `r`.\n",
    "\n",
    "This is designed to work on Jupyter Notebooks version 4.0 or higher.\n",
    "\n",
    "First we load html2canvas:"
   ]
  },
  {
   "cell_type": "code",
   "execution_count": 1,
   "metadata": {
    "collapsed": false
   },
   "outputs": [
    {
     "data": {
      "text/html": [
       "\n",
       "<script src=\"http://html2canvas.hertzen.com/build/html2canvas.js\" charset=\"utf-8\"></script>"
      ],
      "text/plain": [
       "<IPython.core.display.HTML object>"
      ]
     },
     "metadata": {},
     "output_type": "display_data"
    }
   ],
   "source": [
    "%%html\n",
    "\n",
    "<script src=\"http://html2canvas.hertzen.com/build/html2canvas.js\" charset=\"utf-8\"></script>"
   ]
  },
  {
   "cell_type": "code",
   "execution_count": 4,
   "metadata": {
    "collapsed": false
   },
   "outputs": [
    {
     "data": {
      "application/javascript": [
       "\n",
       "// Next define a function for uploading the canvas to Imgur\n",
       "\n",
       "function uploadCanvasToImgur(canvas) {\n",
       "    document.body.appendChild(canvas);\n",
       "    try {\n",
       "        var img = canvas.toDataURL('image/png', 0.9).split(',')[1];\n",
       "    } catch (e) {\n",
       "        var img = canvas.toDataURL().split(',')[1];\n",
       "    }\n",
       "    var w = window.open();\n",
       "    w.document.write('Uploading...');\n",
       "\n",
       "    $.ajax({\n",
       "        url: 'https://api.imgur.com/3/image',\n",
       "        type: 'post',\n",
       "        headers: {\n",
       "            Authorization: 'Client-ID 14c0d864490a649'\n",
       "        },\n",
       "        data: {\n",
       "            image: img\n",
       "        },\n",
       "        dataType: 'json',\n",
       "        success: function(response) {\n",
       "            if (response.success) {\n",
       "                w.location = response.data.link;\n",
       "            }\n",
       "        }\n",
       "    }).error(function() {\n",
       "        alert('Could not reach api.imgur.com.');\n",
       "        w.close();\n",
       "    });\n",
       "}\n",
       "\n",
       "// Define a function for uploading the currently selected cell\n",
       "\n",
       "function uploadSelectedCellToImgur(event) {\n",
       "    element = IPython.notebook.get_selected_cell().element;\n",
       "    html2canvas(element, {\n",
       "        onrendered: uploadCanvasToImgur\n",
       "    })\n",
       "}\n",
       "\n",
       "// Define `r` as the keyboard shortcut\n",
       "\n",
       "Jupyter.keyboard_manager.command_shortcuts.add_shortcut('r', {\n",
       "    help: 'Upload cell to Imgur',\n",
       "    help_index: 'Upload a screenshot of the current cell and output to Imgur.',\n",
       "    handler: uploadSelectedCellToImgur\n",
       "});"
      ],
      "text/plain": [
       "<IPython.core.display.Javascript object>"
      ]
     },
     "metadata": {},
     "output_type": "display_data"
    }
   ],
   "source": [
    "%%javascript\n",
    "\n",
    "// Next define a function for uploading the canvas to Imgur\n",
    "\n",
    "function uploadCanvasToImgur(canvas) {\n",
    "    document.body.appendChild(canvas);\n",
    "    try {\n",
    "        var img = canvas.toDataURL('image/png', 0.9).split(',')[1];\n",
    "    } catch (e) {\n",
    "        var img = canvas.toDataURL().split(',')[1];\n",
    "    }\n",
    "    var w = window.open();\n",
    "    w.document.write('Uploading...');\n",
    "\n",
    "    $.ajax({\n",
    "        url: 'https://api.imgur.com/3/image',\n",
    "        type: 'post',\n",
    "        headers: {\n",
    "            Authorization: 'Client-ID 14c0d864490a649'\n",
    "        },\n",
    "        data: {\n",
    "            image: img\n",
    "        },\n",
    "        dataType: 'json',\n",
    "        success: function(response) {\n",
    "            if (response.success) {\n",
    "                w.location = response.data.link;\n",
    "            }\n",
    "        }\n",
    "    }).error(function() {\n",
    "        alert('Could not reach api.imgur.com.');\n",
    "        w.close();\n",
    "    });\n",
    "}\n",
    "\n",
    "// Define a function for uploading the currently selected cell\n",
    "\n",
    "function uploadSelectedCellToImgur(event) {\n",
    "    element = IPython.notebook.get_selected_cell().element;\n",
    "    html2canvas(element, {\n",
    "        onrendered: uploadCanvasToImgur\n",
    "    })\n",
    "}\n",
    "\n",
    "// Define `r` as the keyboard shortcut\n",
    "\n",
    "Jupyter.keyboard_manager.command_shortcuts.add_shortcut('r', {\n",
    "    help: 'Upload cell to Imgur',\n",
    "    help_index: 'Upload a screenshot of the current cell and output to Imgur.',\n",
    "    handler: uploadSelectedCellToImgur\n",
    "});"
   ]
  },
  {
   "cell_type": "markdown",
   "metadata": {},
   "source": [
    "Now try to run the cell below and press the `r` button. If everything works"
   ]
  },
  {
   "cell_type": "code",
   "execution_count": 3,
   "metadata": {
    "collapsed": false
   },
   "outputs": [
    {
     "data": {
      "text/plain": [
       "2"
      ]
     },
     "execution_count": 3,
     "metadata": {},
     "output_type": "execute_result"
    }
   ],
   "source": [
    "1+1"
   ]
  }
 ],
 "metadata": {
  "kernelspec": {
   "display_name": "Python 3",
   "language": "python",
   "name": "python3"
  },
  "language_info": {
   "codemirror_mode": {
    "name": "ipython",
    "version": 3
   },
   "file_extension": ".py",
   "mimetype": "text/x-python",
   "name": "python",
   "nbconvert_exporter": "python",
   "pygments_lexer": "ipython3",
   "version": "3.5.0"
  }
 },
 "nbformat": 4,
 "nbformat_minor": 0
}
